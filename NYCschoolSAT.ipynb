{
  "nbformat": 4,
  "nbformat_minor": 0,
  "metadata": {
    "colab": {
      "provenance": []
    },
    "kernelspec": {
      "name": "python3",
      "display_name": "Python 3"
    },
    "language_info": {
      "name": "python"
    }
  },
  "cells": [
    {
      "cell_type": "code",
      "execution_count": null,
      "metadata": {
        "id": "11TS94a34TIo"
      },
      "outputs": [],
      "source": [
        "#Import the libraries\n",
        "\n",
        "import numpy as np\n",
        "import pandas as pd\n",
        "import matplotlib.pyplot as plt\n",
        "import seaborn as sns\n",
        "from   sklearn.preprocessing import StandardScaler\n",
        "from   sklearn.cluster import KMeans\n",
        "\n",
        "#Upload data\n",
        "from google.colab import drive\n",
        "drive.mount('/content/drive')\n",
        "file_path = '/content/drive/My Drive/Colab Notebooks/2012_SAT_Results.csv'\n",
        "schools = pd.read_csv(file_path)\n",
        "\n",
        "#Check the data\n",
        "print(schools.info())\n",
        "print(schools.describe())\n",
        "print(schools.isnull().sum())\n",
        "print(schools.dtypes)\n",
        "#There are no non-null columns but we should convert 's' to the numeric values like mean\n",
        "\n",
        "#Convert columns to numeric, replacing 's' with NaN\n",
        "schools['Num of SAT Test Takers'] = pd.to_numeric(schools['Num of SAT Test Takers'], errors= 'coerce')\n",
        "schools['SAT Critical Reading Avg. Score'] = pd.to_numeric(schools['SAT Critical Reading Avg. Score'], errors = 'coerce')\n",
        "schools['SAT Math Avg. Score'] = pd.to_numeric(schools['SAT Math Avg. Score'], errors = 'coerce')\n",
        "schools['SAT Writing Avg. Score'] = pd.to_numeric(schools['SAT Writing Avg. Score'], errors = 'coerce')\n",
        "\n",
        "#Handle NaN values (fill with column mean)\n",
        "schools['Num of SAT Test Takers'].fillna(schools['Num of SAT Test Takers'].mean(), inplace=True)\n",
        "schools['SAT Critical Reading Avg. Score'].fillna(schools['SAT Critical Reading Avg. Score'].mean(), inplace=True)\n",
        "schools['SAT Math Avg. Score'].fillna(schools['SAT Math Avg. Score'].mean(), inplace=True)\n",
        "schools['SAT Writing Avg. Score'].fillna(schools['SAT Writing Avg. Score'].mean(), inplace=True)\n",
        "\n",
        "#Save the cleaned data to a new CSV file\n",
        "schools.to_csv('Cleaned_SAT_Results.csv', index=False)"
      ]
    },
    {
      "cell_type": "code",
      "source": [
        "#1) What are the top 5 schools based on the number of SAT test takers?\n",
        "TopFiveNumSatTestTakers = schools.sort_values(by= 'Num of SAT Test Takers', ascending=False)\n",
        "TopFiveNumSatTestTakers = TopFiveNumSatTestTakers[['SCHOOL NAME', 'Num of SAT Test Takers']]\n",
        "print(TopFiveNumSatTestTakers.head(5))"
      ],
      "metadata": {
        "id": "BSEGglVA2Ue7"
      },
      "execution_count": null,
      "outputs": []
    },
    {
      "cell_type": "code",
      "source": [
        "#2) Which schools have the fewest test takers?\n",
        "FewestNumSatTestTakers = schools.sort_values(by= 'Num of SAT Test Takers', ascending=True)\n",
        "FewestNumSatTestTakers = FewestNumSatTestTakers[['SCHOOL NAME', 'Num of SAT Test Takers']]\n",
        "print(FewestNumSatTestTakers.head(5))"
      ],
      "metadata": {
        "id": "A09oleFU3m2t"
      },
      "execution_count": null,
      "outputs": []
    },
    {
      "cell_type": "code",
      "source": [
        "#3) What is the average number of SAT test takers across all schools?\n",
        "AverageNumSATtakers = schools['Num of SAT Test Takers'].mean()\n",
        "AverageNumSATtakers = round(AverageNumSATtakers, 2)\n",
        "print(f'The average number of SAT test takers across all schools is {AverageNumSATtakers}.')"
      ],
      "metadata": {
        "id": "ITFuNQIz3rPP"
      },
      "execution_count": null,
      "outputs": []
    },
    {
      "cell_type": "code",
      "source": [
        "#4) What are the top 5 schools in each borough based on the average reading score?\n",
        "schools['Borough_code'] = schools['DBN'].str[2]  #Extract the third character\n",
        "Borough_Mapping = {'M':'Manhattan', 'X':'Bronx','K':'Brooklyn','Q':'Queens','R':'Staten Island'}  #Create a dictionary of boroughs\n",
        "schools['Borough'] = schools['Borough_code'].map(Borough_Mapping)\n",
        "#print(schools[['DBN', 'Borough']].head(10))\n",
        "Filtered_Data = schools[['SCHOOL NAME', 'Borough', 'SAT Critical Reading Avg. Score']]\n",
        "TopFiveBoroughReading = Filtered_Data.sort_values(['Borough', 'SAT Critical Reading Avg. Score'], ascending=[True, False])\n",
        "print(TopFiveBoroughReading.groupby('Borough').head(5))"
      ],
      "metadata": {
        "id": "iwJONlvW30Kh"
      },
      "execution_count": null,
      "outputs": []
    },
    {
      "cell_type": "code",
      "source": [
        "#5) Which schools have the lowest average reading scores?\n",
        "LowestAverageReading = schools.sort_values(by= 'SAT Critical Reading Avg. Score', ascending=True)\n",
        "LowestAverageReading = LowestAverageReading[['SCHOOL NAME', 'SAT Critical Reading Avg. Score']]\n",
        "print(LowestAverageReading.head(10))"
      ],
      "metadata": {
        "id": "vGiNPy7b6ytk"
      },
      "execution_count": null,
      "outputs": []
    },
    {
      "cell_type": "code",
      "source": [
        "#6) Which borough has the highest average math scores?\n",
        "HighestMathScoresBorough = schools.groupby('Borough')['SAT Math Avg. Score'].mean()\n",
        "HighestMathScoresBorough = HighestMathScoresBorough.sort_values(ascending=False)\n",
        "print(HighestMathScoresBorough.head(1))"
      ],
      "metadata": {
        "id": "VaefDlbM8SLe"
      },
      "execution_count": null,
      "outputs": []
    },
    {
      "cell_type": "code",
      "source": [
        "#7) Which borough has the lowest average writing scores?\n",
        "LowestWritingScoresBorough = schools.groupby('Borough')['SAT Writing Avg. Score'].mean()\n",
        "LowestWritingScoresBorough = LowestWritingScoresBorough.sort_values(ascending=True)\n",
        "print(LowestWritingScoresBorough.head(1))"
      ],
      "metadata": {
        "id": "vhM8_VDc9QWD"
      },
      "execution_count": null,
      "outputs": []
    },
    {
      "cell_type": "code",
      "source": [
        "#8) What is the average total SAT score across all schools?\n",
        "schools['Total SAT Scores'] = schools['SAT Critical Reading Avg. Score'] + schools['SAT Math Avg. Score'] + schools['SAT Writing Avg. Score']\n",
        "AverageTotalSAT = schools['Total SAT Scores'].mean().round(2)\n",
        "print(f'The average total SAT scores is: {AverageTotalSAT}')"
      ],
      "metadata": {
        "id": "O1k86q1I9zSa"
      },
      "execution_count": null,
      "outputs": []
    },
    {
      "cell_type": "code",
      "source": [
        "#9) What is the distribution of total SAT scores (e.g., histogram or boxplot)?\n",
        "schools['Total SAT Scores'] = schools['SAT Critical Reading Avg. Score'] + schools['SAT Math Avg. Score'] + schools['SAT Writing Avg. Score']\n",
        "\n",
        "#Plot the histogram\n",
        "plt.figure(figsize=(10, 6))\n",
        "plt.hist(schools['Total SAT Scores'].dropna(), bins=20, color= 'yellow', edgecolor= 'black')\n",
        "plt.axvline(schools['Total SAT Scores'].mean(), color = 'green', linestyle = 'dashed', linewidth = 2, label = 'Mean')\n",
        "plt.axvline(schools['Total SAT Scores'].min(), color = 'red', linestyle = 'dashed', linewidth = 2, label = 'Min')\n",
        "plt.axvline(schools['Total SAT Scores'].max(), color = 'blue', linestyle = 'dashed', linewidth = 2, label = 'Max')\n",
        "plt.title('Distribution of Total SAT Scores')\n",
        "plt.xlabel('Total SAT Scores')\n",
        "plt.ylabel('Frequency')\n",
        "plt.legend()\n",
        "plt.show()\n",
        "\n",
        "#Boxplot for Total SAT Scores by Borough\n",
        "plt.figure(figsize=(10, 6))\n",
        "sns.boxplot(x= schools['Borough'] , y= 'Total SAT Scores', data= schools)\n",
        "plt.title('Distribution of Total SAT Scores by Borough')\n",
        "plt.xlabel('Borough')\n",
        "plt.ylabel('Total SAT Scores')\n",
        "plt.xticks(rotation=45)\n",
        "plt.show()\n",
        "\n",
        "#Display the summary statistics\n",
        "borough_stats = schools.groupby('Borough')['Total SAT Scores'].describe()\n",
        "print(borough_stats)"
      ],
      "metadata": {
        "id": "pQiQROtE_QDM"
      },
      "execution_count": null,
      "outputs": []
    },
    {
      "cell_type": "code",
      "source": [
        "#10) Which borough has the highest average total SAT score?\n",
        "schools['Total SAT Scores'] = schools['SAT Critical Reading Avg. Score'] + schools['SAT Math Avg. Score'] + schools['SAT Writing Avg. Score']\n",
        "HighestTotalAverageBorough = schools.groupby('Borough')['Total SAT Scores'].mean()\n",
        "HighestTotalAverageBorough = HighestTotalAverageBorough.sort_values(ascending=False)\n",
        "print(HighestTotalAverageBorough.head(1))"
      ],
      "metadata": {
        "id": "UdhrjMJzOICQ"
      },
      "execution_count": null,
      "outputs": []
    },
    {
      "cell_type": "code",
      "source": [
        "#11) Which borough has the greatest variability (standard deviation) in total SAT scores?\n",
        "schools['Total SAT Scores'] = schools['SAT Critical Reading Avg. Score'] + schools['SAT Math Avg. Score'] + schools['SAT Writing Avg. Score']\n",
        "GreatestSTDBorough = schools.groupby('Borough')['Total SAT Scores'].std()\n",
        "GreatestSTDBorough = GreatestSTDBorough.sort_values(ascending=False)\n",
        "print(GreatestSTDBorough.head(1))"
      ],
      "metadata": {
        "id": "cJf1QqHMRnNY"
      },
      "execution_count": null,
      "outputs": []
    },
    {
      "cell_type": "code",
      "source": [
        "#12) How does the average SAT math score compare between boroughs?\n",
        "AverageMathScoresBorough = schools.groupby('Borough')['SAT Math Avg. Score'].mean().round(2)\n",
        "AverageMathScoresBorough = AverageMathScoresBorough.sort_values(ascending=False)\n",
        "print(AverageMathScoresBorough)\n",
        "\n",
        "plt.figure(figsize=(10, 6))\n",
        "AverageMathScoresBorough.plot(kind ='bar', color='green')\n",
        "plt.title('Average SAT Math Scores by Borough')\n",
        "plt.xlabel('Borough')\n",
        "plt.ylabel('Average SAT Math Score')\n",
        "plt.xticks(rotation=45)\n",
        "plt.show()"
      ],
      "metadata": {
        "id": "SXlZ0FmuVTr9"
      },
      "execution_count": null,
      "outputs": []
    },
    {
      "cell_type": "code",
      "source": [
        "#13) Is there a relationship between the number of test takers and total SAT scores?\n",
        "schools['Total SAT Scores'] = schools['SAT Critical Reading Avg. Score'] + schools['SAT Math Avg. Score'] + schools['SAT Writing Avg. Score']\n",
        "correlation1 = schools['Num of SAT Test Takers'].corr(schools['Total SAT Scores'])\n",
        "print(f'The correlation is:{correlation1}')"
      ],
      "metadata": {
        "id": "xsnfDHfwZBrD"
      },
      "execution_count": null,
      "outputs": []
    },
    {
      "cell_type": "code",
      "source": [
        "#14) Which borough has the most schools performing above the city-wide average total SAT score?\n",
        "schools['Total SAT Scores'] = schools['SAT Critical Reading Avg. Score'] + schools['SAT Math Avg. Score'] + schools['SAT Writing Avg. Score']\n",
        "AverageTotalSAT = schools['Total SAT Scores'].mean().round(2)\n",
        "TopSchools = schools[schools['Total SAT Scores']> AverageTotalSAT]\n",
        "TopSchools = TopSchools.groupby('Borough').size().sort_values(ascending=False)\n",
        "print(TopSchools.head(1))"
      ],
      "metadata": {
        "id": "kRps0Pf8cMJy"
      },
      "execution_count": null,
      "outputs": []
    },
    {
      "cell_type": "code",
      "source": [
        "#15) Rank boroughs based on their combined average performance across all SAT categories (reading, math, and writing).\n",
        "BoroughAverages = schools.groupby('Borough')[['SAT Critical Reading Avg. Score', 'SAT Math Avg. Score', 'SAT Writing Avg. Score']].mean()\n",
        "BoroughAveragesTotalSAT = (BoroughAverages['SAT Critical Reading Avg. Score'] + BoroughAverages['SAT Math Avg. Score'] + BoroughAverages['SAT Writing Avg. Score'])\n",
        "BoroughAveragesTotalSAT = BoroughAveragesTotalSAT.sort_values(ascending=False)\n",
        "print(BoroughAveragesTotalSAT)"
      ],
      "metadata": {
        "id": "U6h6N9a-csGP"
      },
      "execution_count": null,
      "outputs": []
    },
    {
      "cell_type": "code",
      "source": [
        "#16) Are there any schools that perform consistently well across all three SAT sections (reading, math, and writing)?\n",
        "MathAverage = schools['SAT Math Avg. Score'].mean()\n",
        "ReadingAverage = schools['SAT Critical Reading Avg. Score'].mean()\n",
        "WritingAverage = schools['SAT Writing Avg. Score'].mean()\n",
        "ConsistentSchools = schools[(schools['SAT Math Avg. Score'] > MathAverage) & (schools['SAT Critical Reading Avg. Score'] > ReadingAverage) & (schools['SAT Writing Avg. Score'] > WritingAverage)]\n",
        "ConsistentSchools = ConsistentSchools.sort_values(by= 'Total SAT Scores', ascending=False)\n",
        "print(ConsistentSchools[['SCHOOL NAME', 'SAT Math Avg. Score', 'SAT Critical Reading Avg. Score', 'SAT Writing Avg. Score']].head(10))"
      ],
      "metadata": {
        "id": "kKoCFnvAcwb9"
      },
      "execution_count": null,
      "outputs": []
    },
    {
      "cell_type": "code",
      "source": [
        "#17) Identify schools that have unusually high test taker numbers but lower total SAT scores. What might explain this pattern?\n",
        "schools['Total SAT Scores'] = schools['SAT Critical Reading Avg. Score'] + schools['SAT Math Avg. Score'] + schools['SAT Writing Avg. Score']\n",
        "TopTestTakers = schools.sort_values(by= 'Num of SAT Test Takers', ascending=False).head(50)\n",
        "#print(TopTestTakers[['SCHOOL NAME', 'Num of SAT Test Takers', 'Total SAT Scores']])\n",
        "LowestSatScores = TopTestTakers.sort_values(by= 'Total SAT Scores', ascending=True)\n",
        "print(LowestSatScores[['SCHOOL NAME', 'Num of SAT Test Takers', 'Total SAT Scores']].head(20))"
      ],
      "metadata": {
        "id": "a563htvBc6rv"
      },
      "execution_count": null,
      "outputs": []
    },
    {
      "cell_type": "code",
      "source": [
        "#18) Do boroughs with fewer schools tend to have higher average scores?\n",
        "NumberSchoolsBorough = schools.groupby('Borough').size()\n",
        "AverageScoresBorough = schools.groupby('Borough')[['Total SAT Scores', 'SAT Math Avg. Score', 'SAT Critical Reading Avg. Score', 'SAT Writing Avg. Score']].mean()\n",
        "CorrelationTotal = NumberSchoolsBorough.corr(AverageScoresBorough['Total SAT Scores'])\n",
        "CorrelationMath = NumberSchoolsBorough.corr(AverageScoresBorough['SAT Math Avg. Score'])\n",
        "CorrelationReading = NumberSchoolsBorough.corr(AverageScoresBorough['SAT Critical Reading Avg. Score'])\n",
        "CorrelationWriting = NumberSchoolsBorough.corr(AverageScoresBorough['SAT Writing Avg. Score'])\n",
        "print(f'The correlation between the number of schools and the total SAT scores is: {CorrelationTotal}')\n",
        "print(f'The correlation between the number of schools and the SAT math scores is: {CorrelationMath}')\n",
        "print(f'The correlation between the number of schools and the SAT reading scores is: {CorrelationReading}')\n",
        "print(f'The correlation between the number of schools and the SAT writing scores is: {CorrelationWriting}')"
      ],
      "metadata": {
        "id": "NNo22boVc9qX"
      },
      "execution_count": null,
      "outputs": []
    },
    {
      "cell_type": "code",
      "source": [
        "#19) Create a custom performance metric (e.g., a weighted average of SAT categories) and rank schools based on this metric.\n",
        "schools['CustomMetric'] = ((schools['SAT Math Avg. Score'] * 0.4) + (schools['SAT Critical Reading Avg. Score'] * 0.3) + (schools['SAT Writing Avg. Score'] * 0.3))\n",
        "#print(schools['CustomMetric'].head(10)) #check the values\n",
        "RankedSchools = schools.sort_values(by= 'CustomMetric', ascending=False)\n",
        "print(RankedSchools[['SCHOOL NAME', 'CustomMetric']].head(10))"
      ],
      "metadata": {
        "id": "ZkZWoLIfdBU7"
      },
      "execution_count": null,
      "outputs": []
    },
    {
      "cell_type": "code",
      "source": [
        "#20) Perform a cluster analysis to group schools with similar SAT performance profiles.\n",
        "\n",
        "#Adding essential data\n",
        "schools['Total SAT Scores'] = schools['SAT Critical Reading Avg. Score'] + schools['SAT Math Avg. Score'] + schools['SAT Writing Avg. Score']\n",
        "schools['Borough_code'] = schools['DBN'].str[2]  #Extract the third character\n",
        "Borough_Mapping = {'M':'Manhattan', 'X':'Bronx','K':'Brooklyn','Q':'Queens','R':'Staten Island'}  #Create a dictionary of boroughs\n",
        "schools['Borough'] = schools['Borough_code'].map(Borough_Mapping)\n",
        "\n",
        "#scale the data\n",
        "Features = schools[['SAT Math Avg. Score', 'SAT Critical Reading Avg. Score', 'SAT Writing Avg. Score']]\n",
        "Scaler = StandardScaler()\n",
        "ScaledFeatures = Scaler.fit_transform(Features)\n",
        "\n",
        "#Applying Elbow method\n",
        "Interia = []\n",
        "for k in range(1, 11):\n",
        "  kmeans = KMeans(n_clusters=k, random_state=42)\n",
        "  kmeans.fit(ScaledFeatures)\n",
        "  Interia.append(kmeans.inertia_)\n",
        "\n",
        "#Plot the k results\n",
        "plt.plot(range(1,11), Interia, marker='o', linestyle='--')\n",
        "plt.title('Elbow Method for Optimal K')\n",
        "plt.xlabel('Number of Clusters (K)')\n",
        "plt.ylabel('Inertia')\n",
        "plt.show()\n",
        "\n",
        "#Run K-means clustering with K=5 (based on the chart)\n",
        "optimal_k = 5\n",
        "kmeans = KMeans(n_clusters=optimal_k, random_state=42)\n",
        "\n",
        "#Assign the cluster labels to each school\n",
        "schools['Cluster'] = kmeans.fit_predict(ScaledFeatures)\n",
        "print(f'Cluster Centers (Centroids):\\n{kmeans.cluster_centers_}') #Check\n",
        "schools['Cluster'] = kmeans.labels_ #Add the labels\n",
        "\n",
        "#Create a 2D plot based on the clustered SAT Scores(Math & Reading)\n",
        "plt.figure(figsize=(10, 8))\n",
        "sns.set(style=\"whitegrid\")\n",
        "sns.scatterplot(data=schools, x='SAT Math Avg. Score', y='SAT Critical Reading Avg. Score', hue='Cluster', palette='Set2', s=100)\n",
        "plt.title('Clustered SAT Scores by Math and Critical Reading', fontsize=16)\n",
        "plt.xlabel('SAT Math Average Score', fontsize=12)\n",
        "plt.ylabel('SAT Critical Reading Average Score', fontsize=12)\n",
        "plt.legend(title='Cluster', loc='upper left')\n",
        "plt.show()\n",
        "\n",
        "#Grouping by cluster, calculating the mean, and sorting\n",
        "AverageScoresCluster= schools.groupby('Cluster')[['Total SAT Scores', 'SAT Math Avg. Score', 'SAT Critical Reading Avg. Score', 'SAT Writing Avg. Score']].mean()\n",
        "SortedClustersTotal= AverageScoresCluster.sort_values(by= 'Total SAT Scores', ascending=False)\n",
        "SortedClustersMath= AverageScoresCluster.sort_values(by= 'SAT Math Avg. Score', ascending=False)\n",
        "SortedClustersReading= AverageScoresCluster.sort_values(by= 'SAT Critical Reading Avg. Score', ascending=False)\n",
        "SortedClustersWriting= AverageScoresCluster.sort_values(by= 'SAT Writing Avg. Score', ascending=False)\n",
        "\n",
        "SortedClustersTotal = SortedClustersTotal.reset_index()\n",
        "SortedClustersMath = SortedClustersMath.reset_index()\n",
        "SortedClustersReading = SortedClustersReading.reset_index()\n",
        "SortedClustersWriting = SortedClustersWriting.reset_index()\n",
        "\n",
        "print(SortedClustersTotal[['Cluster', 'Total SAT Scores']])\n",
        "print(SortedClustersMath[['Cluster', 'SAT Math Avg. Score']])\n",
        "print(SortedClustersReading[['Cluster', 'SAT Critical Reading Avg. Score']])\n",
        "print(SortedClustersWriting[['Cluster', 'SAT Writing Avg. Score']])\n",
        "\n",
        "#Create a box plot for each SAT category per cluster\n",
        "fig, axes = plt.subplots(2 ,2 , figsize=(14, 10))\n",
        "sns.boxplot(x='Cluster', y='Total SAT Scores', data=schools, ax=axes[0, 0])\n",
        "axes[0, 0].set_title('Total SAT Scores per Cluster')\n",
        "sns.boxplot(x='Cluster', y='SAT Math Avg. Score', data=schools, ax=axes[0,1])\n",
        "axes[0, 1].set_title('SAT Math Avg. Score')\n",
        "sns.boxplot(x='Cluster', y='SAT Critical Reading Avg. Score', data=schools, ax=axes[1, 0])\n",
        "axes[1, 0].set_title('SAT Critical Reading Avg. Score')\n",
        "sns.boxplot(x='Cluster', y='SAT Writing Avg. Score', data=schools, ax=axes[1, 1])\n",
        "axes[1, 1].set_title('SAT Writing Avg. Score')\n",
        "plt.tight_layout()\n",
        "plt.show()"
      ],
      "metadata": {
        "id": "WfxVaEtjdETJ"
      },
      "execution_count": null,
      "outputs": []
    }
  ]
}